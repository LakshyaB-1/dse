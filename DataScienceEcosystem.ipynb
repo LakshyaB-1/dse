{
 "cells": [
  {
   "cell_type": "markdown",
   "id": "19b83c7e-eb86-4729-8a88-9e90d005a63d",
   "metadata": {},
   "source": [
    "<h1>Data Science Tools and Ecosystem</h1> \n"
   ]
  },
  {
   "cell_type": "markdown",
   "id": "6e06685c-ad24-4961-a06d-f7c954483fc6",
   "metadata": {},
   "source": [
    "<h3> In this notebook, Data Science Tools and Ecosystem are summarized.</h3>\n"
   ]
  },
  {
   "cell_type": "markdown",
   "id": "a9a1ddae-7c81-44d7-8070-ece0ea11866a",
   "metadata": {},
   "source": [
    "Objecives:\n",
    "<li>Popular languages</li>\n",
    "<li>Commonly used libraries</li>\n",
    "<li>Table data</li>\n",
    "<li>Evaluating Arithmetic expressions</li>"
   ]
  },
  {
   "cell_type": "markdown",
   "id": "f833150d-37a0-4994-84ad-7e8ed734506d",
   "metadata": {},
   "source": [
    "Some of the popular languages that Data Scientists use are:\n",
    "<ol>\n",
    "    <li>Python</li>\n",
    "<li>R</li> \n",
    "<li>Java</li>\n",
    "</ol>\n"
   ]
  },
  {
   "cell_type": "markdown",
   "id": "0ad616e0-6292-4f23-887d-5ff7a2de9566",
   "metadata": {},
   "source": [
    "Some of the commonly used libraries used by Data Scientists include:\r\n",
    "<ol>\n",
    "    <li>NumPy</li>\n",
    "    <li>Panda</li>\n",
    "    <li>Tensorflow</li>\n",
    "</ol>>"
   ]
  },
  {
   "cell_type": "markdown",
   "id": "5db765fc-db0e-456c-9417-d19d62208313",
   "metadata": {},
   "source": [
    "|Data Science Tools    |\n",
    "|:-:\n",
    "|SQL                   |\n",
    "|R studio              |\n",
    "|Apache Spark          |\n"
   ]
  },
  {
   "cell_type": "markdown",
   "id": "71388ac3-85d6-49ea-9d17-f89242db9a03",
   "metadata": {},
   "source": [
    "<h3>Below are a few examples of evaluating arithmetic expressions in Python</h3>"
   ]
  },
  {
   "cell_type": "code",
   "execution_count": 38,
   "id": "8b5169a0-cf7e-4064-959e-a93c3becf6fb",
   "metadata": {},
   "outputs": [
    {
     "data": {
      "text/plain": [
       "17"
      ]
     },
     "execution_count": 38,
     "metadata": {},
     "output_type": "execute_result"
    }
   ],
   "source": [
    "#This a simple arithmetic expression to mutiply then add integers\n",
    "(3*4)+5\n"
   ]
  },
  {
   "cell_type": "code",
   "execution_count": 40,
   "id": "ab1d1588-b483-4e79-b58a-ec051c276ff5",
   "metadata": {},
   "outputs": [
    {
     "data": {
      "text/plain": [
       "3.3333333333333335"
      ]
     },
     "execution_count": 40,
     "metadata": {},
     "output_type": "execute_result"
    }
   ],
   "source": [
    "#This will convert 200 minutes to hours by diving by 60\n",
    "(200/60)"
   ]
  },
  {
   "cell_type": "markdown",
   "id": "c0817430-e982-4151-97b9-94039c8e3c58",
   "metadata": {},
   "source": [
    "## Author\n",
    "Lakshya Bhatt"
   ]
  }
 ],
 "metadata": {
  "kernelspec": {
   "display_name": "Python 3 (ipykernel)",
   "language": "python",
   "name": "python3"
  },
  "language_info": {
   "codemirror_mode": {
    "name": "ipython",
    "version": 3
   },
   "file_extension": ".py",
   "mimetype": "text/x-python",
   "name": "python",
   "nbconvert_exporter": "python",
   "pygments_lexer": "ipython3",
   "version": "3.12.4"
  }
 },
 "nbformat": 4,
 "nbformat_minor": 5
}
